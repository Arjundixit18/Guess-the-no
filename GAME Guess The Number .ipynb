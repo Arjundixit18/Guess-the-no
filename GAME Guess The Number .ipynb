{
 "cells": [
  {
   "cell_type": "code",
   "execution_count": null,
   "id": "f2e3715a",
   "metadata": {},
   "outputs": [
    {
     "name": "stdout",
     "output_type": "stream",
     "text": [
      "Welcome to Guess the Number (⁠ ⁠╹ ⁠▽⁠ ╹⁠ ⁠) !!\n",
      "Enter lower range: 6\n",
      "Enter upper range: 9\n",
      "\n",
      "Guess: 7\n",
      "You Guessed it right!\n",
      "Number was 7\n",
      "Your score is 1\n"
     ]
    }
   ],
   "source": [
    "#Guess The Number !!\n",
    "print(\"Welcome to Guess the Number (⁠ ⁠👁 ⁠▽⁠ 👁⁠ ⁠) !!\")\n",
    "\n",
    "lower=int(input(\"Enter lower range: \"))\n",
    "upper=int(input(\"Enter upper range: \"))\n",
    "\n",
    "import random \n",
    "score=0\n",
    "print()\n",
    "while(True):\n",
    "    radnum=random.randrange(lower,upper)\n",
    "    trys=0\n",
    "    while(True):\n",
    "        guess=int(input(\"Guess: \"))\n",
    "        if (guess==radnum):\n",
    "            print(\"You Guessed it right!\")\n",
    "            score=score+1\n",
    "            break\n",
    "        else:\n",
    "            if(guess>radnum):\n",
    "                print(\"Your Guess was High\")\n",
    "                trys=trys+1\n",
    "            else:\n",
    "                print(\"Your Guess was Low\")\n",
    "                trys=trys+1\n",
    "            print(\"Trys left:{}\\n\".format(3-trys))\n",
    "        if(trys>=3):\n",
    "            print(\"Sorry you had your Chance :(\")\n",
    "            break\n",
    "    print(\"Number was\",guess)\n",
    "    print(\"Your score is\",score)\n",
    "    PA=input(\"\\nWanna Try Again (y / n) : \")\n",
    "    PA=PA.lower()\n",
    "    if (PA=='y'):\n",
    "        continue\n",
    "    elif(PA=='n'):\n",
    "        break\n",
    "    else:\n",
    "        print(\"Uhm yes(y) or no(n) ?\\nAnyways,\")\n",
    "        break\n",
    "print(\"It was Fun playing with you!\")"
   ]
  },
  {
   "cell_type": "code",
   "execution_count": null,
   "id": "1d2b87fb",
   "metadata": {},
   "outputs": [],
   "source": []
  }
 ],
 "metadata": {
  "kernelspec": {
   "display_name": "Python 3 (ipykernel)",
   "language": "python",
   "name": "python3"
  },
  "language_info": {
   "codemirror_mode": {
    "name": "ipython",
    "version": 3
   },
   "file_extension": ".py",
   "mimetype": "text/x-python",
   "name": "python",
   "nbconvert_exporter": "python",
   "pygments_lexer": "ipython3",
   "version": "3.11.1"
  }
 },
 "nbformat": 4,
 "nbformat_minor": 5
}
